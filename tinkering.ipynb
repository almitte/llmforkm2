{
 "cells": [
  {
   "cell_type": "code",
   "execution_count": 1,
   "metadata": {},
   "outputs": [
    {
     "name": "stderr",
     "output_type": "stream",
     "text": [
      "/Users/maxschneider/projects/llmforkm2/.venv/lib/python3.12/site-packages/pinecone/data/index.py:1: TqdmWarning: IProgress not found. Please update jupyter and ipywidgets. See https://ipywidgets.readthedocs.io/en/stable/user_install.html\n",
      "  from tqdm.autonotebook import tqdm\n"
     ]
    }
   ],
   "source": [
    "import rag "
   ]
  },
  {
   "cell_type": "code",
   "execution_count": 2,
   "metadata": {},
   "outputs": [
    {
     "data": {
      "text/plain": [
       "[(Document(page_content='Sonstiges:', metadata={'p_id': '2064449', 'p_parent': 'not supported', 'p_title': 'Sonstiges', 'seq_num': 9.0, 'source': '/Users/maxschneider/projects/llmforkm2/Data/confluence_data.json', 'start_index': 0.0}),\n",
       "  0.899007857),\n",
       " (Document(page_content='Figuren:', metadata={'p_id': '2064400', 'p_parent': 'not supported', 'p_title': 'Figuren', 'seq_num': 6.0, 'source': '/Users/maxschneider/projects/llmforkm2/Data/confluence_data.json', 'start_index': 0.0}),\n",
       "  0.8971925000000001),\n",
       " (Document(page_content='Orte:', metadata={'p_id': '2064410', 'p_parent': 'not supported', 'p_title': 'Orte', 'seq_num': 7.0, 'source': '/Users/maxschneider/projects/llmforkm2/Data/confluence_data.json', 'start_index': 0.0}),\n",
       "  0.8890251515),\n",
       " (Document(page_content='seines Meisters.Padmé Amidala (Natalie Portman), Königin von Naboo. Ihr Ziel ist es, ihr Königreich vor der Handelsföderation zu beschützen.Anakin Skywalker (Jake Lloyd) Sklavenjunge von Tatooine. Er ist ein guter Pilot und Techniker. Die Macht ist sehr stark in Anakin.Sheev Palpatine/Darth Sidious (Ian McDiarmid), Senator von Naboo und wird später Kanzler der Republik.Darth Maul (Ray Park), dathomirianischer Zabrak und ein Sith-Lord.Jar Jar Binks (Ahmed Best) Gungan, der durch seine ungeschickte Art andere immer wieder in heikle Situationen bringt.R2-D2 (Kenny Baker), Astromech-Droide, der dem Königreich Naboo dient.C-3PO (Anthony Daniels), humanoider Protokolldroide, der über 6 Millionen Kommunikationsformen beherrscht. Er wurde von Anakin Skywalker gebaut.NebenfigurenShmi Skywalker (Pernilla August), Mutter von Anakin Skywalker. Sie lebt als Sklavin auf dem Wüstenplaneten Tatooine, wo sie Anakin allein aufzog.Yoda (Frank Oz), Jedi-Großmeister. Gemeinsam mit Mace Windu und', metadata={'p_id': '2064400', 'p_parent': 'not supported', 'p_title': 'Figuren', 'seq_num': 6.0, 'source': '/Users/maxschneider/projects/llmforkm2/Data/confluence_data.json', 'start_index': 516.0}),\n",
       "  0.8885683715),\n",
       " (Document(page_content='sowie Shmi Skywalker besitzt.Rugor Nass (Silas Carson), Herrscher der Unterwasserstadt Otoh Gunga auf dem Planeten Naboo und Anführer über das dort lebende Volk der Gungans. Er verbannte Jar Jar Binks wegen seiner Tollpatschigkeit.Sebulba, Podrennfahrer und Rivale von Anakin Skywalker.Finis Valorum (Terence Stamp), Oberster Kanzler der Galaktischen Republik.Ki-Adi-Mundi (Silas Carson), Jedi-Meister und Mitglied des Jedi-Rates.Jabba Desilijic Tiure, bekannt als Jabba der Hutte, Anführer einer Verbrecherorganisation, die ihren Sitz auf dem Wüstenplaneten Tatooine hat.Sabé (Keira Knightley), Zofe, Leibdouble und Leibwache von Königin Amidala', metadata={'p_id': '2064400', 'p_parent': 'not supported', 'p_title': 'Figuren', 'seq_num': 6.0, 'source': '/Users/maxschneider/projects/llmforkm2/Data/confluence_data.json', 'start_index': 2022.0}),\n",
       "  0.8878359495),\n",
       " (Document(page_content='ist er das Oberhaupt des Jedi-Rates.Mace Windu (Samuel L. Jackson), Jedi-Meister und Mitglied des Jedi-Rates.Quarsh Panaka (Hugh Quarshie), Captain und Anführer der Sicherheitsgarde des Königreichs Naboo. Er dient Königin Amidala als ihr Leibwächter.Nute Gunray (Silas Carson), Neimoidianer und der Vizekönig der Handelsföderation. Er schloss einen Vertrag mit Sidious und ließ den Planeten Naboo besetzen.Watto (OT: Andy Secombe/DF: Udo Schenk), Toydarianischer Schrott- und Sklavenhändler, der Anakin sowie Shmi Skywalker besitzt.Rugor Nass (Silas Carson), Herrscher der Unterwasserstadt Otoh Gunga auf dem Planeten Naboo und Anführer über das dort lebende Volk der Gungans. Er verbannte Jar Jar Binks wegen seiner Tollpatschigkeit.Sebulba, Podrennfahrer und Rivale von Anakin Skywalker.Finis Valorum (Terence Stamp), Oberster Kanzler der Galaktischen Republik.Ki-Adi-Mundi (Silas Carson), Jedi-Meister und Mitglied des Jedi-Rates.Jabba Desilijic Tiure, bekannt als Jabba der Hutte, Anführer einer', metadata={'p_id': '2064400', 'p_parent': 'not supported', 'p_title': 'Figuren', 'seq_num': 6.0, 'source': '/Users/maxschneider/projects/llmforkm2/Data/confluence_data.json', 'start_index': 1519.0}),\n",
       "  0.8878047765),\n",
       " (Document(page_content='Art andere immer wieder in heikle Situationen bringt.R2-D2 (Kenny Baker), Astromech-Droide, der dem Königreich Naboo dient.C-3PO (Anthony Daniels), humanoider Protokolldroide, der über 6 Millionen Kommunikationsformen beherrscht. Er wurde von Anakin Skywalker gebaut.NebenfigurenShmi Skywalker (Pernilla August), Mutter von Anakin Skywalker. Sie lebt als Sklavin auf dem Wüstenplaneten Tatooine, wo sie Anakin allein aufzog.Yoda (Frank Oz), Jedi-Großmeister. Gemeinsam mit Mace Windu und Ki-Adi-Mundi ist er das Oberhaupt des Jedi-Rates.Mace Windu (Samuel L. Jackson), Jedi-Meister und Mitglied des Jedi-Rates.Quarsh Panaka (Hugh Quarshie), Captain und Anführer der Sicherheitsgarde des Königreichs Naboo. Er dient Königin Amidala als ihr Leibwächter.Nute Gunray (Silas Carson), Neimoidianer und der Vizekönig der Handelsföderation. Er schloss einen Vertrag mit Sidious und ließ den Planeten Naboo besetzen.Watto (OT: Andy Secombe/DF: Udo Schenk), Toydarianischer Schrott- und Sklavenhändler, der', metadata={'p_id': '2064400', 'p_parent': 'not supported', 'p_title': 'Figuren', 'seq_num': 6.0, 'source': '/Users/maxschneider/projects/llmforkm2/Data/confluence_data.json', 'start_index': 1018.0}),\n",
       "  0.8869913815),\n",
       " (Document(page_content='mit einem gewissen Darth Sidious, der auf galaktischer Regierungsebene im Verborgenen seine schützende Hand über diese Rechtsbrüche zu halten scheint. Daraufhin entsendet Finis Valorum, der Kanzler des Galaktischen Senats, den Jedi-Meister Qui-Gon Jinn und dessen Padawan-Schüler Obi-Wan Kenobi, um in dem Konflikt zu vermitteln. Von Sidious aufgefordert, besetzt die Handelsföderation den Planeten mit ihrer Droidenarmee und versucht, auf ihrem Kontrollschiff die beiden Jedi umzubringen. Diese können zusammen mit Padmé Amidala, der Königin der Naboo, und einigen anderen in Richtung Coruscant fliehen, dem Sitz des Senats der Republik. Dabei wird ihr Hyperraumantrieb durch Sperrfeuer der Handelsföderation beschädigt, so dass sie zur Reparatur eine Zwischenlandung auf dem abgelegenen Wüstenplaneten Tatooine einlegen müssen.', metadata={'p_id': '2064390', 'p_parent': 'not supported', 'p_title': 'Episode I', 'seq_num': 5.0, 'source': '/Users/maxschneider/projects/llmforkm2/Data/confluence_data.json', 'start_index': 513.0}),\n",
       "  0.88603878),\n",
       " (Document(page_content='Zwecke arrangiert, die demokratische Macht des Senats durch Einsatz der Notstandsvollmachten des Kanzlers auszuhebeln.Anakin und Padmé kehren nach Naboo zurück und heiraten heimlich, da eine solche Bindung einem Jedi untersagt ist. Obi-Wan, Yoda und Windu denken im Jedi-Tempel auf Coruscant über die zurückliegende Schlacht und die gegenwärtige Entwicklung nach. Tausende von Klonkriegern marschieren in riesige Raumschiffe und bereiten sich auf einen gigantischen Krieg vor, der die Galaxis verändern wird.', metadata={'p_id': '2097180', 'p_parent': 'not supported', 'p_title': 'Episode II', 'seq_num': 11.0, 'source': '/Users/maxschneider/projects/llmforkm2/Data/confluence_data.json', 'start_index': 6512.0}),\n",
       "  0.8853168490000001),\n",
       " (Document(page_content='Emotionen.\\xa0Windu sowie die Jedi-Meister Saesee Tiin, Kit Fisto und Agen Kolar wollen den Kanzler verhaften. Als sie in sein Büro eintreten, zieht Sidious ein Lichtschwert und tötet die Eskorte von Mace. Nur Windu kann Sidious standhalten und es gelingt ihm, den Sith-Lord zu entwaffnen. In diesem Moment kommt Anakin ins Büro gestürmt. Sidious attackiert Windu daraufhin mit Machtblitzen, doch dieser kann mit Hilfe seines Lichtschwerts die Blitze reflektieren und schleudert sie auf das Gesicht des Sith zurück, welches sich zu deformieren beginnt, bis es sichtbar entstellt ist. Windu ist davon überzeugt, dass der Kanzler zu mächtig und zu einflussreich ist, um am Leben gelassen zu werden. Der entkräftete Darth Sidious bittet jedoch darum, nicht getötet zu werden. Anakin will den Jedi-Meister davon überzeugen, ihn lebendig dem Gericht zu überstellen, doch Windu ist strikt dagegen. Seiner Meinung nach kontrolliert der Kanzler die Gerichte, weshalb ein Verfahren eine Farce wäre. Als Windu', metadata={'p_id': '2064430', 'p_parent': 'not supported', 'p_title': 'Episode III', 'seq_num': 8.0, 'source': '/Users/maxschneider/projects/llmforkm2/Data/confluence_data.json', 'start_index': 4506.0}),\n",
       "  0.8848249315000001)]"
      ]
     },
     "execution_count": 2,
     "metadata": {},
     "output_type": "execute_result"
    }
   ],
   "source": [
    "rag.get_chunks_from_pinecone(\"Wer ist max \")"
   ]
  },
  {
   "cell_type": "code",
   "execution_count": 3,
   "metadata": {},
   "outputs": [
    {
     "data": {
      "text/plain": [
       "[(Document(page_content='Seit drei Jahren toben die Klonkriege in der Galaxis. Die Galaxie erscheint zerrüttet und von Kämpfen mit der Konföderation Unabhängiger Systeme (KUS) durchsät. Anakin Skywalker ist aufgrund seines Heldenmutes in vielen Kämpfen inzwischen in den Rang eines Jedi-Ritters aufgestiegen. Doch Misstrauen gegenüber dem Jedi-Orden und seine Angst, seine Ehefrau Padmé zu verlieren, wie er einst seine Mutter verloren hat, führen ihn immer weiter zur dunklen Seite der Macht. Dabei setzt er sowohl das Verhältnis zu seinem Mentor Obi-Wan Kenobi als auch seine Ehe aufs Spiel.\\xa0Als es den Separatisten unter der Führung von Count Dooku und dem Droidengeneral Grievous gelingt, Kanzler Palpatine aus der Hauptstadt von Coruscant zu entführen, beginnt eine gigantische Weltraumschlacht im Orbit von Coruscant. Die Flotte der Republik versucht, die Fliehenden aufzuhalten und den Kanzler zu befreien. Anakin und Obi-Wan führen die Rettungsaktion an. Es gelingt ihnen, an Bord des Flaggschiffes von General', metadata={'p_id': '2064430', 'p_parent': 'not supported', 'p_title': 'Episode III', 'seq_num': 8.0, 'source': '/Users/maxschneider/projects/llmforkm2/Data/confluence_data.json', 'start_index': 14.0}),\n",
       "  0.9350058735),\n",
       " (Document(page_content='Separatistenrat auf dem Planeten Utapau aufspüren und fordert den Droidengeneral zum Duell auf. Nach einem kurzen Kampf erscheinen Kenobis Klontruppen auf dem Feld, woraufhin eine Schlacht beginnt. Grievous versucht zu entkommen, nach einer kurzen Verfolgungsjagd und einem weiteren Kampf wird er jedoch von Obi-Wan eliminiert.\\xa0Anakin erhält von Mace Windu den Auftrag, den Kanzler über den Fortschritt des Kriegsgeschehens zu informieren, um dessen Absichten offenzulegen. Mittlerweile fühlt sich Anakin jedoch vom Rat der Jedi ausgeschlossen und hat den Eindruck, von ihnen nicht in alle Geheimnisse der Macht einbezogen zu werden. Palpatine nutzt Anakins Frustration, um diesen an den Intentionen der Jedi zweifeln zu lassen. Schließlich offenbart er sich ihm als der dunkle Lord der Sith, wie vom Rat in einer Sitzung bereits vermutet wird. Anakin zeigt sich hin- und hergerissen zwischen der Loyalität zu den Jedi und der Freundschaft zu Palpatine, der ihn immer förderte und ihm nun die Macht', metadata={'p_id': '2064430', 'p_parent': 'not supported', 'p_title': 'Episode III', 'seq_num': 8.0, 'source': '/Users/maxschneider/projects/llmforkm2/Data/confluence_data.json', 'start_index': 3010.0}),\n",
       "  0.9344206749999999),\n",
       " (Document(page_content='Es stellt sich heraus, dass der dunkle Krieger ein Sith, ein Mitglied eines Gegenordens der Jedi war, von dem man glaubte, dass er seit 1000 Jahren ausgestorben sei. Da die Sith immer zu zweit agieren, fragen sich Yoda und Mace Windu, ob der Meister oder der Schüler getötet wurde. Wegen seines Mutes im Kampf gegen den Sith erhält Obi-Wan den Rang des Jedi-Ritters und die Erlaubnis, Anakin Skywalker zu einem Jedi auszubilden. Außerdem wurde Palpatine zum neuen Kanzler der Republik gewählt. Mit einer ausgelassenen Parade feiern die Naboo und die Gungans ihre neugewonnene Freundschaft und den Sieg über die Föderation.', metadata={'p_id': '2064390', 'p_parent': 'not supported', 'p_title': 'Episode I', 'seq_num': 5.0, 'source': '/Users/maxschneider/projects/llmforkm2/Data/confluence_data.json', 'start_index': 5489.0}),\n",
       "  0.932313323),\n",
       " (Document(page_content='Anakin verabschieden sich freundschaftlich, allerdings sieht sich letzterer im politischen Machtkampf zwischen dem Jedi-Rat und dem Kanzler zwiegespalten. Palpatine erkennt den Plan der Jedi und schürt das Misstrauen Anakins gegenüber dem Rat. Er erzählt ihm, wie ähnlich Sith und Jedi sich seien und welche Macht die Dunkle Seite verleihen könne. Durch die Bekanntgabe einer Fähigkeit, das Sterben geliebter Mitmenschen aufhalten zu können, weckt er Anakins Interesse.\\xa0Obi-Wan kann Grievous und den Separatistenrat auf dem Planeten Utapau aufspüren und fordert den Droidengeneral zum Duell auf. Nach einem kurzen Kampf erscheinen Kenobis Klontruppen auf dem Feld, woraufhin eine Schlacht beginnt. Grievous versucht zu entkommen, nach einer kurzen Verfolgungsjagd und einem weiteren Kampf wird er jedoch von Obi-Wan eliminiert.\\xa0Anakin erhält von Mace Windu den Auftrag, den Kanzler über den Fortschritt des Kriegsgeschehens zu informieren, um dessen Absichten offenzulegen. Mittlerweile fühlt sich', metadata={'p_id': '2064430', 'p_parent': 'not supported', 'p_title': 'Episode III', 'seq_num': 8.0, 'source': '/Users/maxschneider/projects/llmforkm2/Data/confluence_data.json', 'start_index': 2510.0}),\n",
       "  0.931295067),\n",
       " (Document(page_content='HauptfigurenQui-Gon Jinn (Liam Neeson), weiser, aber eigenwilliger Jedi-Meister und Mentor von Obi-Wan Kenobi. Qui-Gon wurde wegen seines Egoismus und des stetigen Widersetzens gegen die Beschlüsse des Jedi-Rates nie in den Rat aufgenommen. Er glaubt fest an die alte Jedi-Prophezeiung und sieht in Anakin den Auserwählten.Obi-Wan Kenobi (Ewan McGregor), Padawan-Schüler von Qui-Gon Jinn. Er hat großen Respekt vor seinem Meister und den Regeln der Jedis. Er zweifelt oft an den endgültigen Entscheidungen seines Meisters.Padmé Amidala (Natalie Portman), Königin von Naboo. Ihr Ziel ist es, ihr Königreich vor der Handelsföderation zu beschützen.Anakin Skywalker (Jake Lloyd) Sklavenjunge von Tatooine. Er ist ein guter Pilot und Techniker. Die Macht ist sehr stark in Anakin.Sheev Palpatine/Darth Sidious (Ian McDiarmid), Senator von Naboo und wird später Kanzler der Republik.Darth Maul (Ray Park), dathomirianischer Zabrak und ein Sith-Lord.Jar Jar Binks (Ahmed Best) Gungan, der durch seine', metadata={'p_id': '2064400', 'p_parent': 'not supported', 'p_title': 'Figuren', 'seq_num': 6.0, 'source': '/Users/maxschneider/projects/llmforkm2/Data/confluence_data.json', 'start_index': 10.0}),\n",
       "  0.9306623935),\n",
       " (Document(page_content='Verhältnis zu seinem Mentor Obi-Wan Kenobi als auch seine Ehe aufs Spiel.\\xa0Als es den Separatisten unter der Führung von Count Dooku und dem Droidengeneral Grievous gelingt, Kanzler Palpatine aus der Hauptstadt von Coruscant zu entführen, beginnt eine gigantische Weltraumschlacht im Orbit von Coruscant. Die Flotte der Republik versucht, die Fliehenden aufzuhalten und den Kanzler zu befreien. Anakin und Obi-Wan führen die Rettungsaktion an. Es gelingt ihnen, an Bord des Flaggschiffes von General Grievous zu kommen und sich bis zum Kanzler vorzukämpfen. Als sie ihn befreien wollen, tritt ihnen Count Dooku entgegen. Er macht Obi-Wan kampfunfähig, sodass Anakin ihm allein gegenübersteht. Dieser ist seit dem letzten Duell mit dem Sith-Lord mächtiger und erfahrener geworden. Anakin gelingt es, Dooku zu verwunden. Auf den Befehl des gefesselten Kanzlers hin enthauptet Anakin den Wehrlosen entgegen dem Ehrenkodex der Jedi. Zusammen mit dem Kanzler, dem bewusstlosen Obi-Wan und R2-D2 fliegt', metadata={'p_id': '2064430', 'p_parent': 'not supported', 'p_title': 'Episode III', 'seq_num': 8.0, 'source': '/Users/maxschneider/projects/llmforkm2/Data/confluence_data.json', 'start_index': 509.0}),\n",
       "  0.9306336045),\n",
       " (Document(page_content='seines Meisters.Padmé Amidala (Natalie Portman), Königin von Naboo. Ihr Ziel ist es, ihr Königreich vor der Handelsföderation zu beschützen.Anakin Skywalker (Jake Lloyd) Sklavenjunge von Tatooine. Er ist ein guter Pilot und Techniker. Die Macht ist sehr stark in Anakin.Sheev Palpatine/Darth Sidious (Ian McDiarmid), Senator von Naboo und wird später Kanzler der Republik.Darth Maul (Ray Park), dathomirianischer Zabrak und ein Sith-Lord.Jar Jar Binks (Ahmed Best) Gungan, der durch seine ungeschickte Art andere immer wieder in heikle Situationen bringt.R2-D2 (Kenny Baker), Astromech-Droide, der dem Königreich Naboo dient.C-3PO (Anthony Daniels), humanoider Protokolldroide, der über 6 Millionen Kommunikationsformen beherrscht. Er wurde von Anakin Skywalker gebaut.NebenfigurenShmi Skywalker (Pernilla August), Mutter von Anakin Skywalker. Sie lebt als Sklavin auf dem Wüstenplaneten Tatooine, wo sie Anakin allein aufzog.Yoda (Frank Oz), Jedi-Großmeister. Gemeinsam mit Mace Windu und', metadata={'p_id': '2064400', 'p_parent': 'not supported', 'p_title': 'Figuren', 'seq_num': 6.0, 'source': '/Users/maxschneider/projects/llmforkm2/Data/confluence_data.json', 'start_index': 516.0}),\n",
       "  0.9298535285),\n",
       " (Document(page_content='jedoch vom Rat der Jedi ausgeschlossen und hat den Eindruck, von ihnen nicht in alle Geheimnisse der Macht einbezogen zu werden. Palpatine nutzt Anakins Frustration, um diesen an den Intentionen der Jedi zweifeln zu lassen. Schließlich offenbart er sich ihm als der dunkle Lord der Sith, wie vom Rat in einer Sitzung bereits vermutet wird. Anakin zeigt sich hin- und hergerissen zwischen der Loyalität zu den Jedi und der Freundschaft zu Palpatine, der ihn immer förderte und ihm nun die Macht verspricht, Padmé vor dem Tod zu bewahren, welchen er ständig in seinen Träumen vor Augen hat. Er bringt es nicht über sich, den Sith-Lord zu töten, aber er berichtet Meister Windu davon, wer der Kanzler wirklich ist. Windu spürt Anakins Verwirrung und ordnet ihn an, sich aus der bevorstehenden Konfrontation herauszuhalten und im Tempel zu bleiben. Dort nimmt der junge Jedi-Ritter Platz auf seinem Sitz in der verlassenen Ratskammer, muss an seine Frau denken und kämpft schließlich mit seinen', metadata={'p_id': '2064430', 'p_parent': 'not supported', 'p_title': 'Episode III', 'seq_num': 8.0, 'source': '/Users/maxschneider/projects/llmforkm2/Data/confluence_data.json', 'start_index': 3515.0}),\n",
       "  0.9292391835),\n",
       " (Document(page_content='Planeten aus. Die Klonkrieger können ihre Überlegenheit gegenüber den Droiden unter Beweis stellen. Mehrere Raumschiffe der Handelsgilden werden dabei vernichtet, als sie zu fliehen versuchen. Anakin und Obi-Wan verfolgen in den Wirren des Kampfes Count Dooku bis zu einem Hangar, wo dessen eigenes Raumschiff auf ihn wartet. Obwohl Obi-Wan Dooku gemeinsam mit Anakin in die Enge treiben will, greift Anakin diesen alleine an. Dooku schleudert ihn mithilfe von Sith-Kräften gegen die Wand und Anakin verliert vorübergehend das Bewusstsein.Count Dooku kann trotz eines Lichtschwert-Kampfes gegen Obi-Wan, Anakin und schließlich auch Meister Yoda entkommen. Anakin verliert in diesem Kampf seinen rechten Unterarm. Dooku flieht mit dem Bauplan für den Todesstern nach Coruscant, wo er seinen Meister Darth Sidious trifft. Dieser spricht Dooku mit dessen Sith-Namen Tyranus an und zeigt sich über den Ausbruch der Klonkriege erfreut. Der nun angebrochene Krieg wurde von den beiden Sith-Lords zum', metadata={'p_id': '2097180', 'p_parent': 'not supported', 'p_title': 'Episode II', 'seq_num': 11.0, 'source': '/Users/maxschneider/projects/llmforkm2/Data/confluence_data.json', 'start_index': 5509.0}),\n",
       "  0.9292018710000001),\n",
       " (Document(page_content='Sith zurück, welches sich zu deformieren beginnt, bis es sichtbar entstellt ist. Windu ist davon überzeugt, dass der Kanzler zu mächtig und zu einflussreich ist, um am Leben gelassen zu werden. Der entkräftete Darth Sidious bittet jedoch darum, nicht getötet zu werden. Anakin will den Jedi-Meister davon überzeugen, ihn lebendig dem Gericht zu überstellen, doch Windu ist strikt dagegen. Seiner Meinung nach kontrolliert der Kanzler die Gerichte, weshalb ein Verfahren eine Farce wäre. Als Windu mit seinem Lichtschwert ausholt, um den Sith zu töten, schlägt Anakin ihm seine Hand ab, die zusammen mit der Waffe darin aus dem Fenster fällt. Sidious nutzt den Augenblick, Windu mit seinen Machtblitzen aus eben diesem Fenster zu schleudern. Der aufgewühlte Anakin entscheidet sich für die Dunkle Seite und schwört Sidious die Treue, sofern dieser ihm helfe, Padmé vor dem Tod zu bewahren. Sidious erklärt Anakin wiederum zu seinem neuen Schüler und gibt ihm den Sith-Namen Darth Vader. Auf Befehl', metadata={'p_id': '2064430', 'p_parent': 'not supported', 'p_title': 'Episode III', 'seq_num': 8.0, 'source': '/Users/maxschneider/projects/llmforkm2/Data/confluence_data.json', 'start_index': 5006.0}),\n",
       "  0.9287813899999999)]"
      ]
     },
     "execution_count": 3,
     "metadata": {},
     "output_type": "execute_result"
    }
   ],
   "source": [
    "rag.get_chunks_from_pinecone(\"Wer ist Anakin\")"
   ]
  }
 ],
 "metadata": {
  "kernelspec": {
   "display_name": ".venv",
   "language": "python",
   "name": "python3"
  },
  "language_info": {
   "codemirror_mode": {
    "name": "ipython",
    "version": 3
   },
   "file_extension": ".py",
   "mimetype": "text/x-python",
   "name": "python",
   "nbconvert_exporter": "python",
   "pygments_lexer": "ipython3",
   "version": "3.12.2"
  }
 },
 "nbformat": 4,
 "nbformat_minor": 2
}
