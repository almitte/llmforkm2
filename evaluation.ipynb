{
 "cells": [
  {
   "cell_type": "markdown",
   "metadata": {},
   "source": [
    "# Evaluation/Optimierung "
   ]
  },
  {
   "cell_type": "markdown",
   "metadata": {},
   "source": [
    "### Evaluation \n",
    "evaluieren mit Langsmith und JupyterNotebook\n",
    "Test Cases ausdenken (Nadel im Heuhaufen finden, relevante Infos auf verschiedenen Seiten verteilt, Tabellen-Use-Case)\n",
    "\n",
    "\n",
    "### Optimierung\n",
    "1. Hyperparameter verändern: Modelltemperatur, Overlap/Größe/Anzahl der Chunks \n",
    "2. andere Embeddings und Similarity Measures\n",
    "3. Metadata filtering\n",
    "4. Small-to-Big: kleine Chunks beim Vergleichen mit Frage, aber dann größere Chunks als Kontext \n",
    "5. Fragen von LLM umformulieren lassen (Rewriting)"
   ]
  }
 ],
 "metadata": {
  "language_info": {
   "name": "python"
  }
 },
 "nbformat": 4,
 "nbformat_minor": 2
}
