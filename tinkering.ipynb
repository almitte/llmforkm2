{
 "cells": [
  {
   "cell_type": "code",
   "execution_count": 1,
   "metadata": {},
   "outputs": [
    {
     "name": "stderr",
     "output_type": "stream",
     "text": [
      "/Users/maxschneider/projects/llmforkm2/.venv/lib/python3.12/site-packages/pinecone/data/index.py:1: TqdmWarning: IProgress not found. Please update jupyter and ipywidgets. See https://ipywidgets.readthedocs.io/en/stable/user_install.html\n",
      "  from tqdm.autonotebook import tqdm\n"
     ]
    }
   ],
   "source": [
    "import rag\n",
    "from langchain.schema import Document"
   ]
  },
  {
   "cell_type": "code",
   "execution_count": 2,
   "metadata": {},
   "outputs": [
    {
     "name": "stdout",
     "output_type": "stream",
     "text": [
      "['https://llmgruppenarbeit.atlassian.net/wiki/spaces/KB/pages/2064390', 'https://llmgruppenarbeit.atlassian.net/wiki/spaces/KB/pages/2064400', 'https://llmgruppenarbeit.atlassian.net/wiki/spaces/KB/pages/2064410', 'https://llmgruppenarbeit.atlassian.net/wiki/spaces/KB/pages/2064430', 'https://llmgruppenarbeit.atlassian.net/wiki/spaces/KB/pages/2097180']\n"
     ]
    },
    {
     "data": {
      "text/plain": [
       "'Padmé Amidala ist die Senatorin des Planeten Naboo und später Königin von Naboo. Sie ist eine wichtige politische Figur in der Galaktischen Republik und spielt eine bedeutende Rolle in den politischen Ereignissen, die im Star Wars-Universum stattfinden.'"
      ]
     },
     "execution_count": 2,
     "metadata": {},
     "output_type": "execute_result"
    }
   ],
   "source": [
    "rag.generate_response(\"Wer ist Padme\", \"\", rag.initialize_chain())"
   ]
  },
  {
   "cell_type": "code",
   "execution_count": 11,
   "metadata": {},
   "outputs": [
    {
     "data": {
      "text/plain": [
       "1"
      ]
     },
     "execution_count": 11,
     "metadata": {},
     "output_type": "execute_result"
    }
   ],
   "source": [
    "doc = Document(\"blablabla\", metadata={\"bla\": 1})\n",
    "doc.metadata.get(\"bla\")"
   ]
  },
  {
   "cell_type": "code",
   "execution_count": 10,
   "metadata": {},
   "outputs": [
    {
     "name": "stdout",
     "output_type": "stream",
     "text": [
      "{'bla': 1}\n"
     ]
    }
   ],
   "source": [
    "dic = {\"bla\": 1}\n",
    "dic[\"bla\"]\n",
    "print(str(dic))"
   ]
  }
 ],
 "metadata": {
  "kernelspec": {
   "display_name": ".venv",
   "language": "python",
   "name": "python3"
  },
  "language_info": {
   "codemirror_mode": {
    "name": "ipython",
    "version": 3
   },
   "file_extension": ".py",
   "mimetype": "text/x-python",
   "name": "python",
   "nbconvert_exporter": "python",
   "pygments_lexer": "ipython3",
   "version": "3.12.2"
  }
 },
 "nbformat": 4,
 "nbformat_minor": 2
}
